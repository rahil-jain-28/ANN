{
  "nbformat": 4,
  "nbformat_minor": 0,
  "metadata": {
    "anaconda-cloud": {},
    "kernelspec": {
      "display_name": "Python 3",
      "language": "python",
      "name": "python3"
    },
    "language_info": {
      "codemirror_mode": {
        "name": "ipython",
        "version": 3
      },
      "file_extension": ".py",
      "mimetype": "text/x-python",
      "name": "python",
      "nbconvert_exporter": "python",
      "pygments_lexer": "ipython3",
      "version": "3.7.5"
    },
    "colab": {
      "name": "dlnd_language_translation.ipynb",
      "provenance": [],
      "collapsed_sections": []
    },
    "accelerator": "GPU"
  },
  "cells": [
    {
      "cell_type": "markdown",
      "metadata": {
        "collapsed": true,
        "id": "UsoB1mxyllpL",
        "colab_type": "text"
      },
      "source": [
        "# Language Translation\n",
        "In this project, you’re going to take a peek into the realm of neural network machine translation.  You’ll be training a sequence to sequence model on a dataset of English and French sentences that can translate new sentences from English to French.\n",
        "## Get the Data\n",
        "Since translating the whole language of English to French will take lots of time to train, we have provided you with a small portion of the English corpus."
      ]
    },
    {
      "cell_type": "code",
      "metadata": {
        "id": "ucrk5ptRllpM",
        "colab_type": "code",
        "colab": {
          "base_uri": "https://localhost:8080/",
          "height": 35
        },
        "outputId": "2265967e-256b-4cea-d27a-4737b6cf3a5f"
      },
      "source": [
        "\"\"\"\n",
        "DON'T MODIFY ANYTHING IN THIS CELL\n",
        "\"\"\"\n",
        "%tensorflow_version 1.x\n",
        "import helper1\n",
        "import problem_unittests as tests\n",
        "\n",
        "source_path = 'small_vocab_en'\n",
        "target_path = 'small_vocab_fr'\n",
        "source_text = helper1.load_data(source_path)\n",
        "target_text = helper1.load_data(target_path)"
      ],
      "execution_count": null,
      "outputs": [
        {
          "output_type": "stream",
          "text": [
            "TensorFlow 1.x selected.\n"
          ],
          "name": "stdout"
        }
      ]
    },
    {
      "cell_type": "markdown",
      "metadata": {
        "id": "wskFhh2ollpQ",
        "colab_type": "text"
      },
      "source": [
        "## Explore the Data\n",
        "Play around with view_sentence_range to view different parts of the data."
      ]
    },
    {
      "cell_type": "code",
      "metadata": {
        "id": "M33eN674llpQ",
        "colab_type": "code",
        "colab": {
          "base_uri": "https://localhost:8080/",
          "height": 503
        },
        "outputId": "e84a8c50-12e6-4765-fd58-f3824017ceab"
      },
      "source": [
        "view_sentence_range = (0, 10)\n",
        "\n",
        "\"\"\"\n",
        "DON'T MODIFY ANYTHING IN THIS CELL\n",
        "\"\"\"\n",
        "import numpy as np\n",
        "\n",
        "print('Dataset Stats')\n",
        "print('Roughly the number of unique words: {}'.format(len({word: None for word in source_text.split()})))\n",
        "\n",
        "sentences = source_text.split('\\n')\n",
        "word_counts = [len(sentence.split()) for sentence in sentences]\n",
        "print('Number of sentences: {}'.format(len(sentences)))\n",
        "print('Average number of words in a sentence: {}'.format(np.average(word_counts)))\n",
        "\n",
        "print()\n",
        "print('English sentences {} to {}:'.format(*view_sentence_range))\n",
        "print('\\n'.join(source_text.split('\\n')[view_sentence_range[0]:view_sentence_range[1]]))\n",
        "print()\n",
        "print('French sentences {} to {}:'.format(*view_sentence_range))\n",
        "print('\\n'.join(target_text.split('\\n')[view_sentence_range[0]:view_sentence_range[1]]))"
      ],
      "execution_count": null,
      "outputs": [
        {
          "output_type": "stream",
          "text": [
            "Dataset Stats\n",
            "Roughly the number of unique words: 227\n",
            "Number of sentences: 137861\n",
            "Average number of words in a sentence: 13.225277634719028\n",
            "\n",
            "English sentences 0 to 10:\n",
            "new jersey is sometimes quiet during autumn , and it is snowy in april .\n",
            "the united states is usually chilly during july , and it is usually freezing in november .\n",
            "california is usually quiet during march , and it is usually hot in june .\n",
            "the united states is sometimes mild during june , and it is cold in september .\n",
            "your least liked fruit is the grape , but my least liked is the apple .\n",
            "his favorite fruit is the orange , but my favorite is the grape .\n",
            "paris is relaxing during december , but it is usually chilly in july .\n",
            "new jersey is busy during spring , and it is never hot in march .\n",
            "our least liked fruit is the lemon , but my least liked is the grape .\n",
            "the united states is sometimes busy during january , and it is sometimes warm in november .\n",
            "\n",
            "French sentences 0 to 10:\n",
            "new jersey est parfois calme pendant l' automne , et il est neigeux en avril .\n",
            "les états-unis est généralement froid en juillet , et il gèle habituellement en novembre .\n",
            "california est généralement calme en mars , et il est généralement chaud en juin .\n",
            "les états-unis est parfois légère en juin , et il fait froid en septembre .\n",
            "votre moins aimé fruit est le raisin , mais mon moins aimé est la pomme .\n",
            "son fruit préféré est l'orange , mais mon préféré est le raisin .\n",
            "paris est relaxant en décembre , mais il est généralement froid en juillet .\n",
            "new jersey est occupé au printemps , et il est jamais chaude en mars .\n",
            "notre fruit est moins aimé le citron , mais mon moins aimé est le raisin .\n",
            "les états-unis est parfois occupé en janvier , et il est parfois chaud en novembre .\n"
          ],
          "name": "stdout"
        }
      ]
    },
    {
      "cell_type": "markdown",
      "metadata": {
        "id": "IJTsH8xTllpT",
        "colab_type": "text"
      },
      "source": [
        "## Implement Preprocessing Function\n",
        "### Text to Word Ids\n",
        "As you did with other RNNs, you must turn the text into a number so the computer can understand it. In the function `text_to_ids()`, you'll turn `source_text` and `target_text` from words to ids.  However, you need to add the `<EOS>` word id at the end of `target_text`.  This will help the neural network predict when the sentence should end.\n",
        "\n",
        "You can get the `<EOS>` word id by doing:\n",
        "```python\n",
        "target_vocab_to_int['<EOS>']\n",
        "```\n",
        "You can get other word ids using `source_vocab_to_int` and `target_vocab_to_int`."
      ]
    },
    {
      "cell_type": "code",
      "metadata": {
        "id": "yRWXJydYllpU",
        "colab_type": "code",
        "colab": {
          "base_uri": "https://localhost:8080/",
          "height": 35
        },
        "outputId": "81d2ba88-6cdb-4238-ccb3-085768db1b63"
      },
      "source": [
        "def text_to_ids(source_text, target_text, source_vocab_to_int, target_vocab_to_int):\n",
        "    \"\"\"\n",
        "    Convert source and target text to proper word ids\n",
        "    :param source_text: String that contains all the source text.\n",
        "    :param target_text: String that contains all the target text.\n",
        "    :param source_vocab_to_int: Dictionary to go from the source words to an id\n",
        "    :param target_vocab_to_int: Dictionary to go from the target words to an id\n",
        "    :return: A tuple of lists (source_id_text, target_id_text)\n",
        "    \"\"\"\n",
        "    # TODO: Implement Function\n",
        "    target_text = target_text.replace(\".\", \". <EOS>\")\n",
        "    \n",
        "    source_id_text = []\n",
        "    target_id_text = []\n",
        "    \n",
        "    for source_sentence in source_text.split(\"\\n\"):\n",
        "        source_id_sentence = [ source_vocab_to_int[word] for word in source_sentence.split() ]\n",
        "        source_id_text.append(source_id_sentence)\n",
        "        \n",
        "    for target_sentence in target_text.split(\"\\n\"):\n",
        "        target_id_sentence = [ target_vocab_to_int[word] for word in target_sentence.split() ]\n",
        "        target_id_text.append(target_id_sentence)\n",
        "        \n",
        "    return source_id_text, target_id_text\n",
        "    \n",
        "\n",
        "\"\"\"\n",
        "DON'T MODIFY ANYTHING IN THIS CELL THAT IS BELOW THIS LINE\n",
        "\"\"\"\n",
        "tests.test_text_to_ids(text_to_ids)"
      ],
      "execution_count": null,
      "outputs": [
        {
          "output_type": "stream",
          "text": [
            "Tests Passed\n"
          ],
          "name": "stdout"
        }
      ]
    },
    {
      "cell_type": "markdown",
      "metadata": {
        "id": "gF9l1MvIllpW",
        "colab_type": "text"
      },
      "source": [
        "### Preprocess all the data and save it\n",
        "Running the code cell below will preprocess all the data and save it to file."
      ]
    },
    {
      "cell_type": "code",
      "metadata": {
        "id": "OQy6baFUllpX",
        "colab_type": "code",
        "colab": {}
      },
      "source": [
        "\"\"\"\n",
        "DON'T MODIFY ANYTHING IN THIS CELL\n",
        "\"\"\"\n",
        "helper1.preprocess_and_save_data(source_path, target_path, text_to_ids)"
      ],
      "execution_count": null,
      "outputs": []
    },
    {
      "cell_type": "markdown",
      "metadata": {
        "id": "KOm6PMFbllpZ",
        "colab_type": "text"
      },
      "source": [
        "# Check Point\n",
        "This is your first checkpoint. If you ever decide to come back to this notebook or have to restart the notebook, you can start from here. The preprocessed data has been saved to disk."
      ]
    },
    {
      "cell_type": "code",
      "metadata": {
        "id": "G4PUcSP1llpZ",
        "colab_type": "code",
        "colab": {}
      },
      "source": [
        "\"\"\"\n",
        "DON'T MODIFY ANYTHING IN THIS CELL\n",
        "\"\"\"\n",
        "import numpy as np\n",
        "import helper1\n",
        "import problem_unittests as tests\n",
        "\n",
        "(source_int_text, target_int_text), (source_vocab_to_int, target_vocab_to_int), _ = helper1.load_preprocess()"
      ],
      "execution_count": null,
      "outputs": []
    },
    {
      "cell_type": "markdown",
      "metadata": {
        "id": "ycZOBULYllpc",
        "colab_type": "text"
      },
      "source": [
        "### Check the Version of TensorFlow and Access to GPU\n",
        "This will check to make sure you have the correct version of TensorFlow and access to a GPU"
      ]
    },
    {
      "cell_type": "code",
      "metadata": {
        "id": "AwLAYobEllpc",
        "colab_type": "code",
        "colab": {
          "base_uri": "https://localhost:8080/",
          "height": 52
        },
        "outputId": "18df518f-211d-43ca-a127-cd3a3e41c735"
      },
      "source": [
        "\"\"\"\n",
        "DON'T MODIFY ANYTHING IN THIS CELL\n",
        "\"\"\"\n",
        "from distutils.version import LooseVersion\n",
        "import warnings\n",
        "import tensorflow as tf\n",
        "from tensorflow.python.layers.core import Dense\n",
        "\n",
        "# Check TensorFlow Version\n",
        "assert LooseVersion(tf.__version__) >= LooseVersion('1.1'), 'Please use TensorFlow version 1.1 or newer'\n",
        "print('TensorFlow Version: {}'.format(tf.__version__))\n",
        "\n",
        "# Check for a GPU\n",
        "if not tf.test.gpu_device_name():\n",
        "    warnings.warn('No GPU found. Please use a GPU to train your neural network.')\n",
        "else:\n",
        "    print('Default GPU Device: {}'.format(tf.test.gpu_device_name()))"
      ],
      "execution_count": null,
      "outputs": [
        {
          "output_type": "stream",
          "text": [
            "TensorFlow Version: 1.15.2\n",
            "Default GPU Device: /device:GPU:0\n"
          ],
          "name": "stdout"
        }
      ]
    },
    {
      "cell_type": "markdown",
      "metadata": {
        "id": "pbUfufffllpf",
        "colab_type": "text"
      },
      "source": [
        "## Build the Neural Network\n",
        "You'll build the components necessary to build a Sequence-to-Sequence model by implementing the following functions below:\n",
        "- `model_inputs`\n",
        "- `process_decoder_input`\n",
        "- `encoding_layer`\n",
        "- `decoding_layer_train`\n",
        "- `decoding_layer_infer`\n",
        "- `decoding_layer`\n",
        "- `seq2seq_model`\n",
        "\n",
        "### Input\n",
        "Implement the `model_inputs()` function to create TF Placeholders for the Neural Network. It should create the following placeholders:\n",
        "\n",
        "- Input text placeholder named \"input\" using the TF Placeholder name parameter with rank 2.\n",
        "- Targets placeholder with rank 2.\n",
        "- Learning rate placeholder with rank 0.\n",
        "- Keep probability placeholder named \"keep_prob\" using the TF Placeholder name parameter with rank 0.\n",
        "- Target sequence length placeholder named \"target_sequence_length\" with rank 1\n",
        "- Max target sequence length tensor named \"max_target_len\" getting its value from applying tf.reduce_max on the target_sequence_length placeholder. Rank 0.\n",
        "- Source sequence length placeholder named \"source_sequence_length\" with rank 1\n",
        "\n",
        "Return the placeholders in the following the tuple (input, targets, learning rate, keep probability, target sequence length, max target sequence length, source sequence length)"
      ]
    },
    {
      "cell_type": "code",
      "metadata": {
        "id": "re5nGRmEllpg",
        "colab_type": "code",
        "colab": {
          "base_uri": "https://localhost:8080/",
          "height": 89
        },
        "outputId": "dea12a10-5d67-49b8-9a7d-948c0d6d53f0"
      },
      "source": [
        "def model_inputs():\n",
        "    \"\"\"\n",
        "    Create TF Placeholders for input, targets, learning rate, and lengths of source and target sequences.\n",
        "    :return: Tuple (input, targets, learning rate, keep probability, target sequence length,\n",
        "    max target sequence length, source sequence length)\n",
        "    \"\"\"\n",
        "    # TODO: Implement Function\n",
        "    inputs = tf.placeholder(tf.int32, [None, None], 'input')\n",
        "    targets = tf.placeholder(tf.int32, [None, None])\n",
        "    learning_rate = tf.placeholder(tf.float32, [])\n",
        "    keep_prob = tf.placeholder(tf.float32, [], 'keep_prob')\n",
        "    target_sequence_length = tf.placeholder(tf.int32, [None], 'target_sequence_length')\n",
        "    max_target_len = tf.reduce_max(target_sequence_length)\n",
        "    source_sequence_length = tf.placeholder(tf.int32, [None], 'source_sequence_length')\n",
        "\n",
        "    return inputs, targets, learning_rate, keep_prob, target_sequence_length, max_target_len, source_sequence_length\n",
        "\n",
        "    \n",
        "\n",
        "\n",
        "\"\"\"\n",
        "DON'T MODIFY ANYTHING IN THIS CELL THAT IS BELOW THIS LINE\n",
        "\"\"\"\n",
        "tests.test_model_inputs(model_inputs)"
      ],
      "execution_count": null,
      "outputs": [
        {
          "output_type": "stream",
          "text": [
            "WARNING:tensorflow:From /content/problem_unittests.py:104: The name tf.assert_rank is deprecated. Please use tf.compat.v1.assert_rank instead.\n",
            "\n",
            "Tests Passed\n"
          ],
          "name": "stdout"
        }
      ]
    },
    {
      "cell_type": "markdown",
      "metadata": {
        "id": "HdToyJgzllpi",
        "colab_type": "text"
      },
      "source": [
        "### Process Decoder Input\n",
        "Implement `process_decoder_input` by removing the last word id from each batch in `target_data` and concat the GO ID to the begining of each batch."
      ]
    },
    {
      "cell_type": "code",
      "metadata": {
        "id": "9XdINCLzllpj",
        "colab_type": "code",
        "colab": {
          "base_uri": "https://localhost:8080/",
          "height": 89
        },
        "outputId": "30768246-d15c-4283-c12f-0be51c5f9e45"
      },
      "source": [
        "def process_decoder_input(target_data, target_vocab_to_int, batch_size):\n",
        "    \"\"\"\n",
        "    Preprocess target data for encoding\n",
        "    :param target_data: Target Placehoder\n",
        "    :param target_vocab_to_int: Dictionary to go from the target words to an id\n",
        "    :param batch_size: Batch Size\n",
        "    :return: Preprocessed target data\n",
        "    \"\"\"\n",
        "    # TODO: Implement Function\n",
        "    go = tf.constant([[target_vocab_to_int['<GO>']]]*batch_size)\n",
        "#     end = tf.slice(target_data, [0, 0], [-1, batch_size])\n",
        "    end = tf.strided_slice(target_data, [0, 0], [batch_size, -1], [1, 1])\n",
        "    return tf.concat([go, end], 1)\n",
        "\n",
        "\"\"\"\n",
        "DON'T MODIFY ANYTHING IN THIS CELL THAT IS BELOW THIS LINE\n",
        "\"\"\"\n",
        "tests.test_process_encoding_input(process_decoder_input)"
      ],
      "execution_count": null,
      "outputs": [
        {
          "output_type": "stream",
          "text": [
            "WARNING:tensorflow:From /content/problem_unittests.py:293: The name tf.Session is deprecated. Please use tf.compat.v1.Session instead.\n",
            "\n",
            "Tests Passed\n"
          ],
          "name": "stdout"
        }
      ]
    },
    {
      "cell_type": "markdown",
      "metadata": {
        "id": "8t4gQO9jllpl",
        "colab_type": "text"
      },
      "source": [
        "### Encoding\n",
        "Implement `encoding_layer()` to create a Encoder RNN layer:\n",
        " * Embed the encoder input using [`tf.contrib.layers.embed_sequence`](https://www.tensorflow.org/api_docs/python/tf/contrib/layers/embed_sequence)\n",
        " * Construct a [stacked](https://github.com/tensorflow/tensorflow/blob/6947f65a374ebf29e74bb71e36fd82760056d82c/tensorflow/docs_src/tutorials/recurrent.md#stacking-multiple-lstms) [`tf.contrib.rnn.LSTMCell`](https://www.tensorflow.org/api_docs/python/tf/contrib/rnn/LSTMCell) wrapped in a [`tf.contrib.rnn.DropoutWrapper`](https://www.tensorflow.org/api_docs/python/tf/contrib/rnn/DropoutWrapper)\n",
        " * Pass cell and embedded input to [`tf.nn.dynamic_rnn()`](https://www.tensorflow.org/api_docs/python/tf/nn/dynamic_rnn)"
      ]
    },
    {
      "cell_type": "code",
      "metadata": {
        "scrolled": false,
        "id": "o5ug9lWrllpl",
        "colab_type": "code",
        "colab": {
          "base_uri": "https://localhost:8080/",
          "height": 505
        },
        "outputId": "9f3a9373-08fe-4411-a756-6e3f2f9b7400"
      },
      "source": [
        "from imp import reload\n",
        "reload(tests)\n",
        "\n",
        "def encoding_layer(rnn_inputs, rnn_size, num_layers, keep_prob, \n",
        "                   source_sequence_length, source_vocab_size, \n",
        "                   encoding_embedding_size):\n",
        "    \"\"\"\n",
        "    Create encoding layer\n",
        "    :param rnn_inputs: Inputs for the RNN\n",
        "    :param rnn_size: RNN Size\n",
        "    :param num_layers: Number of layers\n",
        "    :param keep_prob: Dropout keep probability\n",
        "    :param source_sequence_length: a list of the lengths of each sequence in the batch\n",
        "    :param source_vocab_size: vocabulary size of source data\n",
        "    :param encoding_embedding_size: embedding size of source data\n",
        "    :return: tuple (RNN output, RNN state)\n",
        "    \"\"\"\n",
        "    # TODO: Implement Function\n",
        "    embed = tf.contrib.layers.embed_sequence(rnn_inputs, source_vocab_size, encoding_embedding_size)\n",
        "\n",
        "    def lstm_cell():\n",
        "        lstm = tf.contrib.rnn.BasicLSTMCell(rnn_size)\n",
        "        return tf.contrib.rnn.DropoutWrapper(lstm, keep_prob)\n",
        "    stacked_lstm = tf.contrib.rnn.MultiRNNCell([lstm_cell() for _ in range(num_layers)])\n",
        "\n",
        "    # initial_state = stacked_lstm.zero_state(source_sequence_length, tf.float32)\n",
        "    \n",
        "    return tf.nn.dynamic_rnn(stacked_lstm, embed, source_sequence_length, dtype=tf.float32)\n",
        "    \n",
        "\n",
        "\"\"\"\n",
        "DON'T MODIFY ANYTHING IN THIS CELL THAT IS BELOW THIS LINE\n",
        "\"\"\"\n",
        "tests.test_encoding_layer(encoding_layer)"
      ],
      "execution_count": null,
      "outputs": [
        {
          "output_type": "stream",
          "text": [
            "WARNING:tensorflow:\n",
            "The TensorFlow contrib module will not be included in TensorFlow 2.0.\n",
            "For more information, please see:\n",
            "  * https://github.com/tensorflow/community/blob/master/rfcs/20180907-contrib-sunset.md\n",
            "  * https://github.com/tensorflow/addons\n",
            "  * https://github.com/tensorflow/io (for I/O related ops)\n",
            "If you depend on functionality not listed there, please file an issue.\n",
            "\n",
            "WARNING:tensorflow:From <ipython-input-9-00ad91eb0dc5>:22: BasicLSTMCell.__init__ (from tensorflow.python.ops.rnn_cell_impl) is deprecated and will be removed in a future version.\n",
            "Instructions for updating:\n",
            "This class is equivalent as tf.keras.layers.LSTMCell, and will be replaced by that in Tensorflow 2.0.\n",
            "WARNING:tensorflow:From <ipython-input-9-00ad91eb0dc5>:24: MultiRNNCell.__init__ (from tensorflow.python.ops.rnn_cell_impl) is deprecated and will be removed in a future version.\n",
            "Instructions for updating:\n",
            "This class is equivalent as tf.keras.layers.StackedRNNCells, and will be replaced by that in Tensorflow 2.0.\n",
            "WARNING:tensorflow:From <ipython-input-9-00ad91eb0dc5>:28: dynamic_rnn (from tensorflow.python.ops.rnn) is deprecated and will be removed in a future version.\n",
            "Instructions for updating:\n",
            "Please use `keras.layers.RNN(cell)`, which is equivalent to this API\n",
            "WARNING:tensorflow:From /tensorflow-1.15.2/python3.6/tensorflow_core/python/ops/rnn_cell_impl.py:735: Layer.add_variable (from tensorflow.python.keras.engine.base_layer) is deprecated and will be removed in a future version.\n",
            "Instructions for updating:\n",
            "Please use `layer.add_weight` method instead.\n",
            "WARNING:tensorflow:From /tensorflow-1.15.2/python3.6/tensorflow_core/python/ops/rnn_cell_impl.py:739: calling Zeros.__init__ (from tensorflow.python.ops.init_ops) with dtype is deprecated and will be removed in a future version.\n",
            "Instructions for updating:\n",
            "Call initializer instance with the dtype argument instead of passing it to the constructor\n",
            "WARNING:tensorflow:From /tensorflow-1.15.2/python3.6/tensorflow_core/python/ops/rnn.py:244: where (from tensorflow.python.ops.array_ops) is deprecated and will be removed in a future version.\n",
            "Instructions for updating:\n",
            "Use tf.where in 2.0, which has the same broadcast rule as np.where\n",
            "Tests Passed\n"
          ],
          "name": "stdout"
        }
      ]
    },
    {
      "cell_type": "markdown",
      "metadata": {
        "id": "WWyfoJj4llpn",
        "colab_type": "text"
      },
      "source": [
        "### Decoding - Training\n",
        "Create a training decoding layer:\n",
        "* Create a [`tf.contrib.seq2seq.TrainingHelper`](https://www.tensorflow.org/api_docs/python/tf/contrib/seq2seq/TrainingHelper) \n",
        "* Create a [`tf.contrib.seq2seq.BasicDecoder`](https://www.tensorflow.org/api_docs/python/tf/contrib/seq2seq/BasicDecoder)\n",
        "* Obtain the decoder outputs from [`tf.contrib.seq2seq.dynamic_decode`](https://www.tensorflow.org/api_docs/python/tf/contrib/seq2seq/dynamic_decode)"
      ]
    },
    {
      "cell_type": "code",
      "metadata": {
        "id": "nINEX3a4llpo",
        "colab_type": "code",
        "colab": {
          "base_uri": "https://localhost:8080/",
          "height": 141
        },
        "outputId": "24c22ef8-e4ed-463e-dded-efc2801453dc"
      },
      "source": [
        "\n",
        "def decoding_layer_train(encoder_state, dec_cell, dec_embed_input, \n",
        "                         target_sequence_length, max_summary_length, \n",
        "                         output_layer, keep_prob):\n",
        "    \"\"\"\n",
        "    Create a decoding layer for training\n",
        "    :param encoder_state: Encoder State\n",
        "    :param dec_cell: Decoder RNN Cell\n",
        "    :param dec_embed_input: Decoder embedded input\n",
        "    :param target_sequence_length: The lengths of each sequence in the target batch\n",
        "    :param max_summary_length: The length of the longest sequence in the batch\n",
        "    :param output_layer: Function to apply the output layer\n",
        "    :param keep_prob: Dropout keep probability\n",
        "    :return: BasicDecoderOutput containing training logits and sample_id\n",
        "    \"\"\"\n",
        "    # TODO: Implement Function\n",
        "    helper = tf.contrib.seq2seq.TrainingHelper(dec_embed_input, target_sequence_length)\n",
        "    decoder = tf.contrib.seq2seq.BasicDecoder(dec_cell, helper, encoder_state, output_layer)\n",
        "    #dec_train_logits, _ = tf.contrib.seq2seq.dynamic_decode(decoder, maximum_iterations=max_summary_length)\n",
        "    # for tensorflow 1.2:\n",
        "    dec_train_logits, _, _ = tf.contrib.seq2seq.dynamic_decode(decoder, maximum_iterations=max_summary_length)\n",
        "    return dec_train_logits\n",
        "\n",
        "\n",
        "\n",
        "\"\"\"\n",
        "DON'T MODIFY ANYTHING IN THIS CELL THAT IS BELOW THIS LINE\n",
        "\"\"\"\n",
        "tests.test_decoding_layer_train(decoding_layer_train)"
      ],
      "execution_count": null,
      "outputs": [
        {
          "output_type": "stream",
          "text": [
            "WARNING:tensorflow:From /content/problem_unittests.py:312: The name tf.variable_scope is deprecated. Please use tf.compat.v1.variable_scope instead.\n",
            "\n",
            "WARNING:tensorflow:From /content/problem_unittests.py:323: LSTMCell.__init__ (from tensorflow.python.ops.rnn_cell_impl) is deprecated and will be removed in a future version.\n",
            "Instructions for updating:\n",
            "This class is equivalent as tf.keras.layers.LSTMCell, and will be replaced by that in Tensorflow 2.0.\n",
            "Tests Passed\n"
          ],
          "name": "stdout"
        }
      ]
    },
    {
      "cell_type": "markdown",
      "metadata": {
        "id": "AW-c1LUallpq",
        "colab_type": "text"
      },
      "source": [
        "### Decoding - Inference\n",
        "Create inference decoder:\n",
        "* Create a [`tf.contrib.seq2seq.GreedyEmbeddingHelper`](https://www.tensorflow.org/api_docs/python/tf/contrib/seq2seq/GreedyEmbeddingHelper)\n",
        "* Create a [`tf.contrib.seq2seq.BasicDecoder`](https://www.tensorflow.org/api_docs/python/tf/contrib/seq2seq/BasicDecoder)\n",
        "* Obtain the decoder outputs from [`tf.contrib.seq2seq.dynamic_decode`](https://www.tensorflow.org/api_docs/python/tf/contrib/seq2seq/dynamic_decode)"
      ]
    },
    {
      "cell_type": "code",
      "metadata": {
        "scrolled": true,
        "id": "_SQJYpD4llpq",
        "colab_type": "code",
        "colab": {
          "base_uri": "https://localhost:8080/",
          "height": 89
        },
        "outputId": "c7ebbbba-06aa-4ff5-8680-29a616f4f089"
      },
      "source": [
        "def decoding_layer_infer(encoder_state, dec_cell, dec_embeddings, start_of_sequence_id,\n",
        "                         end_of_sequence_id, max_target_sequence_length,\n",
        "                         vocab_size, output_layer, batch_size, keep_prob):\n",
        "    \"\"\"\n",
        "    Create a decoding layer for inference\n",
        "    :param encoder_state: Encoder state\n",
        "    :param dec_cell: Decoder RNN Cell\n",
        "    :param dec_embeddings: Decoder embeddings\n",
        "    :param start_of_sequence_id: GO ID\n",
        "    :param end_of_sequence_id: EOS Id\n",
        "    :param max_target_sequence_length: Maximum length of target sequences\n",
        "    :param vocab_size: Size of decoder/target vocabulary\n",
        "    :param decoding_scope: TenorFlow Variable Scope for decoding\n",
        "    :param output_layer: Function to apply the output layer\n",
        "    :param batch_size: Batch size\n",
        "    :param keep_prob: Dropout keep probability\n",
        "    :return: BasicDecoderOutput containing inference logits and sample_id\n",
        "    \"\"\"\n",
        "    # TODO: Implement Function\n",
        "    start_tokens = tf.constant([start_of_sequence_id]*batch_size)\n",
        "    helper = tf.contrib.seq2seq.GreedyEmbeddingHelper(dec_embeddings, start_tokens, end_of_sequence_id)\n",
        "    decoder = tf.contrib.seq2seq.BasicDecoder(dec_cell, helper, encoder_state, output_layer)\n",
        "    dec_infer_logits, _, _ = tf.contrib.seq2seq.dynamic_decode(decoder, maximum_iterations=max_target_sequence_length)\n",
        "    # for tensorflow 1.2:\n",
        "    # dec_infer_logits, _, _ = tf.contrib.seq2seq.dynamic_decode(decoder, maximum_iterations=max_target_sequence_length)\n",
        "    return dec_infer_logits\n",
        "\n",
        "\n",
        "\n",
        "\"\"\"\n",
        "DON'T MODIFY ANYTHING IN THIS CELL THAT IS BELOW THIS LINE\n",
        "\"\"\"\n",
        "tests.test_decoding_layer_infer(decoding_layer_infer)"
      ],
      "execution_count": null,
      "outputs": [
        {
          "output_type": "stream",
          "text": [
            "WARNING:tensorflow:From /content/problem_unittests.py:368: The name tf.random_uniform is deprecated. Please use tf.random.uniform instead.\n",
            "\n",
            "Tests Passed\n"
          ],
          "name": "stdout"
        }
      ]
    },
    {
      "cell_type": "markdown",
      "metadata": {
        "id": "R5nklyWPllpu",
        "colab_type": "text"
      },
      "source": [
        "### Build the Decoding Layer\n",
        "Implement `decoding_layer()` to create a Decoder RNN layer.\n",
        "\n",
        "* Embed the target sequences\n",
        "* Construct the decoder LSTM cell (just like you constructed the encoder cell above)\n",
        "* Create an output layer to map the outputs of the decoder to the elements of our vocabulary\n",
        "* Use the your `decoding_layer_train(encoder_state, dec_cell, dec_embed_input, target_sequence_length, max_target_sequence_length, output_layer, keep_prob)` function to get the training logits.\n",
        "* Use your `decoding_layer_infer(encoder_state, dec_cell, dec_embeddings, start_of_sequence_id, end_of_sequence_id, max_target_sequence_length, vocab_size, output_layer, batch_size, keep_prob)` function to get the inference logits.\n",
        "\n",
        "Note: You'll need to use [tf.variable_scope](https://www.tensorflow.org/api_docs/python/tf/variable_scope) to share variables between training and inference."
      ]
    },
    {
      "cell_type": "code",
      "metadata": {
        "id": "8Dydz-5_llpv",
        "colab_type": "code",
        "colab": {
          "base_uri": "https://localhost:8080/",
          "height": 35
        },
        "outputId": "9933f504-4852-420c-b70c-6d5a4f6b40ea"
      },
      "source": [
        "def decoding_layer(dec_input, encoder_state,\n",
        "                   target_sequence_length, max_target_sequence_length,\n",
        "                   rnn_size,\n",
        "                   num_layers, target_vocab_to_int, target_vocab_size,\n",
        "                   batch_size, keep_prob, decoding_embedding_size):\n",
        "    \"\"\"\n",
        "    Create decoding layer\n",
        "    :param dec_input: Decoder input\n",
        "    :param encoder_state: Encoder state\n",
        "    :param target_sequence_length: The lengths of each sequence in the target batch\n",
        "    :param max_target_sequence_length: Maximum length of target sequences\n",
        "    :param rnn_size: RNN Size\n",
        "    :param num_layers: Number of layers\n",
        "    :param target_vocab_to_int: Dictionary to go from the target words to an id\n",
        "    :param target_vocab_size: Size of target vocabulary\n",
        "    :param batch_size: The size of the batch\n",
        "    :param keep_prob: Dropout keep probability\n",
        "    :param decoding_embedding_size: Decoding embedding size\n",
        "    :return: Tuple of (Training BasicDecoderOutput, Inference BasicDecoderOutput)\n",
        "    \"\"\"\n",
        "    # TODO: Implement Function\n",
        "    dec_embeddings = tf.Variable(tf.random_normal([target_vocab_size, decoding_embedding_size]))\n",
        "    dec_embed_input = tf.nn.embedding_lookup(dec_embeddings, dec_input)\n",
        "\n",
        "    def lstm_cell():\n",
        "        lstm = tf.contrib.rnn.BasicLSTMCell(rnn_size)\n",
        "        return tf.contrib.rnn.DropoutWrapper(lstm, keep_prob)\n",
        "    dec_cell = tf.contrib.rnn.MultiRNNCell([lstm_cell() for _ in range(num_layers)])\n",
        "    \n",
        "    output_layer = Dense(target_vocab_size,\n",
        "                         kernel_initializer = tf.truncated_normal_initializer(mean = 0.0, stddev=0.1))\n",
        "    \n",
        "    with tf.variable_scope('decode'):\n",
        "        train_logits = decoding_layer_train(encoder_state, dec_cell, dec_embed_input, target_sequence_length, \\\n",
        "                                            max_target_sequence_length, output_layer, keep_prob)\n",
        "    \n",
        "    with tf.variable_scope('decode', reuse=True):\n",
        "        infer_logits = decoding_layer_infer(encoder_state, dec_cell, dec_embeddings, target_vocab_to_int['<GO>'], \\\n",
        "                                            target_vocab_to_int['<EOS>'], max_target_sequence_length, \\\n",
        "                                            target_vocab_size, output_layer, batch_size, keep_prob)\n",
        "    \n",
        "    return train_logits, infer_logits\n",
        "\n",
        "\n",
        "\n",
        "\"\"\"\n",
        "DON'T MODIFY ANYTHING IN THIS CELL THAT IS BELOW THIS LINE\n",
        "\"\"\"\n",
        "tests.test_decoding_layer(decoding_layer)"
      ],
      "execution_count": null,
      "outputs": [
        {
          "output_type": "stream",
          "text": [
            "Tests Passed\n"
          ],
          "name": "stdout"
        }
      ]
    },
    {
      "cell_type": "markdown",
      "metadata": {
        "id": "7qrrj9pjllpx",
        "colab_type": "text"
      },
      "source": [
        "### Build the Neural Network\n",
        "Apply the functions you implemented above to:\n",
        "\n",
        "- Encode the input using your `encoding_layer(rnn_inputs, rnn_size, num_layers, keep_prob,  source_sequence_length, source_vocab_size, encoding_embedding_size)`.\n",
        "- Process target data using your `process_decoder_input(target_data, target_vocab_to_int, batch_size)` function.\n",
        "- Decode the encoded input using your `decoding_layer(dec_input, enc_state, target_sequence_length, max_target_sentence_length, rnn_size, num_layers, target_vocab_to_int, target_vocab_size, batch_size, keep_prob, dec_embedding_size)` function."
      ]
    },
    {
      "cell_type": "code",
      "metadata": {
        "id": "GGcVF2P_llpx",
        "colab_type": "code",
        "colab": {
          "base_uri": "https://localhost:8080/",
          "height": 35
        },
        "outputId": "00db9d5b-7ed1-4599-f6c0-240c5e8e2053"
      },
      "source": [
        "def seq2seq_model(input_data, target_data, keep_prob, batch_size,\n",
        "                  source_sequence_length, target_sequence_length,\n",
        "                  max_target_sentence_length,\n",
        "                  source_vocab_size, target_vocab_size,\n",
        "                  enc_embedding_size, dec_embedding_size,\n",
        "                  rnn_size, num_layers, target_vocab_to_int):\n",
        "    \"\"\"\n",
        "    Build the Sequence-to-Sequence part of the neural network\n",
        "    :param input_data: Input placeholder\n",
        "    :param target_data: Target placeholder\n",
        "    :param keep_prob: Dropout keep probability placeholder\n",
        "    :param batch_size: Batch Size\n",
        "    :param source_sequence_length: Sequence Lengths of source sequences in the batch\n",
        "    :param target_sequence_length: Sequence Lengths of target sequences in the batch\n",
        "    :param source_vocab_size: Source vocabulary size\n",
        "    :param target_vocab_size: Target vocabulary size\n",
        "    :param enc_embedding_size: Decoder embedding size\n",
        "    :param dec_embedding_size: Encoder embedding size\n",
        "    :param rnn_size: RNN Size\n",
        "    :param num_layers: Number of layers\n",
        "    :param target_vocab_to_int: Dictionary to go from the target words to an id\n",
        "    :return: Tuple of (Training BasicDecoderOutput, Inference BasicDecoderOutput)\n",
        "    \"\"\"\n",
        "    # TODO: Implement Function\n",
        "    enc_input, enc_state = encoding_layer(input_data, rnn_size, num_layers, keep_prob, source_sequence_length, \\\n",
        "                                          source_vocab_size, enc_embedding_size)\n",
        "    dec_input = process_decoder_input(target_data, target_vocab_to_int, batch_size)\n",
        "    return decoding_layer(dec_input, enc_state, target_sequence_length, max_target_sentence_length, \\\n",
        "                          rnn_size, num_layers, target_vocab_to_int, target_vocab_size, \\\n",
        "                          batch_size, keep_prob, dec_embedding_size)\n",
        "\n",
        "\n",
        "\"\"\"\n",
        "DON'T MODIFY ANYTHING IN THIS CELL THAT IS BELOW THIS LINE\n",
        "\"\"\"\n",
        "tests.test_seq2seq_model(seq2seq_model)"
      ],
      "execution_count": null,
      "outputs": [
        {
          "output_type": "stream",
          "text": [
            "Tests Passed\n"
          ],
          "name": "stdout"
        }
      ]
    },
    {
      "cell_type": "markdown",
      "metadata": {
        "id": "0HeSLfZKllp0",
        "colab_type": "text"
      },
      "source": [
        "## Neural Network Training\n",
        "### Hyperparameters\n",
        "Tune the following parameters:\n",
        "\n",
        "- Set `epochs` to the number of epochs.\n",
        "- Set `batch_size` to the batch size.\n",
        "- Set `rnn_size` to the size of the RNNs.\n",
        "- Set `num_layers` to the number of layers.\n",
        "- Set `encoding_embedding_size` to the size of the embedding for the encoder.\n",
        "- Set `decoding_embedding_size` to the size of the embedding for the decoder.\n",
        "- Set `learning_rate` to the learning rate.\n",
        "- Set `keep_probability` to the Dropout keep probability\n",
        "- Set `display_step` to state how many steps between each debug output statement"
      ]
    },
    {
      "cell_type": "code",
      "metadata": {
        "id": "U7i7BxxFllp0",
        "colab_type": "code",
        "colab": {}
      },
      "source": [
        "# Number of Epochs\n",
        "epochs = 10\n",
        "# Batch Size\n",
        "batch_size = 512\n",
        "# RNN Size\n",
        "rnn_size = 512\n",
        "# Number of Layers\n",
        "num_layers = 3\n",
        "# Embedding Size\n",
        "encoding_embedding_size = 256\n",
        "decoding_embedding_size = 256\n",
        "# Learning Rate\n",
        "learning_rate = 0.001\n",
        "# Dropout Keep Probability\n",
        "keep_probability = 0.5\n",
        "display_step = 50"
      ],
      "execution_count": null,
      "outputs": []
    },
    {
      "cell_type": "markdown",
      "metadata": {
        "id": "-47-uT6tllp2",
        "colab_type": "text"
      },
      "source": [
        "### Build the Graph\n",
        "Build the graph using the neural network you implemented."
      ]
    },
    {
      "cell_type": "code",
      "metadata": {
        "id": "wyunRugXllp2",
        "colab_type": "code",
        "colab": {}
      },
      "source": [
        "\"\"\"\n",
        "DON'T MODIFY ANYTHING IN THIS CELL\n",
        "\"\"\"\n",
        "save_path = 'checkpoints/dev'\n",
        "(source_int_text, target_int_text), (source_vocab_to_int, target_vocab_to_int), _ = helper1.load_preprocess()\n",
        "max_target_sentence_length = max([len(sentence) for sentence in source_int_text])\n",
        "\n",
        "train_graph = tf.Graph()\n",
        "with train_graph.as_default():\n",
        "    input_data, targets, lr, keep_prob, target_sequence_length, max_target_sequence_length, source_sequence_length = model_inputs()\n",
        "\n",
        "    #sequence_length = tf.placeholder_with_default(max_target_sentence_length, None, name='sequence_length')\n",
        "    input_shape = tf.shape(input_data)\n",
        "\n",
        "    train_logits, inference_logits = seq2seq_model(tf.reverse(input_data, [-1]),\n",
        "                                                   targets,\n",
        "                                                   keep_prob,\n",
        "                                                   batch_size,\n",
        "                                                   source_sequence_length,\n",
        "                                                   target_sequence_length,\n",
        "                                                   max_target_sequence_length,\n",
        "                                                   len(source_vocab_to_int),\n",
        "                                                   len(target_vocab_to_int),\n",
        "                                                   encoding_embedding_size,\n",
        "                                                   decoding_embedding_size,\n",
        "                                                   rnn_size,\n",
        "                                                   num_layers,\n",
        "                                                   target_vocab_to_int)\n",
        "\n",
        "\n",
        "    training_logits = tf.identity(train_logits.rnn_output, name='logits')\n",
        "    inference_logits = tf.identity(inference_logits.sample_id, name='predictions')\n",
        "\n",
        "    masks = tf.sequence_mask(target_sequence_length, max_target_sequence_length, dtype=tf.float32, name='masks')\n",
        "\n",
        "    with tf.name_scope(\"optimization\"):\n",
        "        # Loss function\n",
        "        cost = tf.contrib.seq2seq.sequence_loss(\n",
        "            training_logits,\n",
        "            targets,\n",
        "            masks)\n",
        "\n",
        "        # Optimizer\n",
        "        optimizer = tf.train.AdamOptimizer(lr)\n",
        "\n",
        "        # Gradient Clipping\n",
        "        gradients = optimizer.compute_gradients(cost)\n",
        "        capped_gradients = [(tf.clip_by_value(grad, -1., 1.), var) for grad, var in gradients if grad is not None]\n",
        "        train_op = optimizer.apply_gradients(capped_gradients)\n"
      ],
      "execution_count": null,
      "outputs": []
    },
    {
      "cell_type": "markdown",
      "metadata": {
        "id": "DIopNZedllp5",
        "colab_type": "text"
      },
      "source": [
        "Batch and pad the source and target sequences"
      ]
    },
    {
      "cell_type": "code",
      "metadata": {
        "id": "jHtxPNEmllp5",
        "colab_type": "code",
        "colab": {}
      },
      "source": [
        "\"\"\"\n",
        "DON'T MODIFY ANYTHING IN THIS CELL\n",
        "\"\"\"\n",
        "def pad_sentence_batch(sentence_batch, pad_int):\n",
        "    \"\"\"Pad sentences with <PAD> so that each sentence of a batch has the same length\"\"\"\n",
        "    max_sentence = max([len(sentence) for sentence in sentence_batch])\n",
        "    return [sentence + [pad_int] * (max_sentence - len(sentence)) for sentence in sentence_batch]\n",
        "\n",
        "\n",
        "def get_batches(sources, targets, batch_size, source_pad_int, target_pad_int):\n",
        "    \"\"\"Batch targets, sources, and the lengths of their sentences together\"\"\"\n",
        "    for batch_i in range(0, len(sources)//batch_size):\n",
        "        start_i = batch_i * batch_size\n",
        "\n",
        "        # Slice the right amount for the batch\n",
        "        sources_batch = sources[start_i:start_i + batch_size]\n",
        "        targets_batch = targets[start_i:start_i + batch_size]\n",
        "\n",
        "        # Pad\n",
        "        pad_sources_batch = np.array(pad_sentence_batch(sources_batch, source_pad_int))\n",
        "        pad_targets_batch = np.array(pad_sentence_batch(targets_batch, target_pad_int))\n",
        "\n",
        "        # Need the lengths for the _lengths parameters\n",
        "        pad_targets_lengths = []\n",
        "        for target in pad_targets_batch:\n",
        "            pad_targets_lengths.append(len(target))\n",
        "\n",
        "        pad_source_lengths = []\n",
        "        for source in pad_sources_batch:\n",
        "            pad_source_lengths.append(len(source))\n",
        "\n",
        "        yield pad_sources_batch, pad_targets_batch, pad_source_lengths, pad_targets_lengths\n"
      ],
      "execution_count": null,
      "outputs": []
    },
    {
      "cell_type": "markdown",
      "metadata": {
        "id": "emX6iBVJllp7",
        "colab_type": "text"
      },
      "source": [
        "### Train\n",
        "Train the neural network on the preprocessed data. If you have a hard time getting a good loss, check the forms to see if anyone is having the same problem."
      ]
    },
    {
      "cell_type": "code",
      "metadata": {
        "scrolled": true,
        "id": "Bo7qVxsUllp7",
        "colab_type": "code",
        "colab": {
          "base_uri": "https://localhost:8080/",
          "height": 901
        },
        "outputId": "2aeeaf25-41e2-49f4-cc6a-929463702c2a"
      },
      "source": [
        "\"\"\"\n",
        "DON'T MODIFY ANYTHING IN THIS CELL\n",
        "\"\"\"\n",
        "def get_accuracy(target, logits):\n",
        "    \"\"\"\n",
        "    Calculate accuracy\n",
        "    \"\"\"\n",
        "    max_seq = max(target.shape[1], logits.shape[1])\n",
        "    if max_seq - target.shape[1]:\n",
        "        target = np.pad(\n",
        "            target,\n",
        "            [(0,0),(0,max_seq - target.shape[1])],\n",
        "            'constant')\n",
        "    if max_seq - logits.shape[1]:\n",
        "        logits = np.pad(\n",
        "            logits,\n",
        "            [(0,0),(0,max_seq - logits.shape[1])],\n",
        "            'constant')\n",
        "\n",
        "    return np.mean(np.equal(target, logits))\n",
        "\n",
        "# Split data to training and validation sets\n",
        "train_source = source_int_text[batch_size:]\n",
        "train_target = target_int_text[batch_size:]\n",
        "valid_source = source_int_text[:batch_size]\n",
        "valid_target = target_int_text[:batch_size]\n",
        "(valid_sources_batch, valid_targets_batch, valid_sources_lengths, valid_targets_lengths ) = next(get_batches(valid_source,\n",
        "                                                                                                             valid_target,\n",
        "                                                                                                             batch_size,\n",
        "                                                                                                             source_vocab_to_int['<PAD>'],\n",
        "                                                                                                             target_vocab_to_int['<PAD>']))                                                                                                  \n",
        "with tf.Session(graph=train_graph) as sess:\n",
        "    sess.run(tf.global_variables_initializer())\n",
        "\n",
        "    for epoch_i in range(epochs):\n",
        "        for batch_i, (source_batch, target_batch, sources_lengths, targets_lengths) in enumerate(\n",
        "                get_batches(train_source, train_target, batch_size,\n",
        "                            source_vocab_to_int['<PAD>'],\n",
        "                            target_vocab_to_int['<PAD>'])):\n",
        "\n",
        "            _, loss = sess.run(\n",
        "                [train_op, cost],\n",
        "                {input_data: source_batch,\n",
        "                 targets: target_batch,\n",
        "                 lr: learning_rate,\n",
        "                 target_sequence_length: targets_lengths,\n",
        "                 source_sequence_length: sources_lengths,\n",
        "                 keep_prob: keep_probability})\n",
        "\n",
        "\n",
        "            if batch_i % display_step == 0 and batch_i > 0:\n",
        "\n",
        "\n",
        "                batch_train_logits = sess.run(\n",
        "                    inference_logits,\n",
        "                    {input_data: source_batch,\n",
        "                     source_sequence_length: sources_lengths,\n",
        "                     target_sequence_length: targets_lengths,\n",
        "                     keep_prob: 1.0})\n",
        "\n",
        "\n",
        "                batch_valid_logits = sess.run(\n",
        "                    inference_logits,\n",
        "                    {input_data: valid_sources_batch,\n",
        "                     source_sequence_length: valid_sources_lengths,\n",
        "                     target_sequence_length: valid_targets_lengths,\n",
        "                     keep_prob: 1.0})\n",
        "\n",
        "                train_acc = get_accuracy(target_batch, batch_train_logits)\n",
        "\n",
        "                valid_acc = get_accuracy(valid_targets_batch, batch_valid_logits)\n",
        "\n",
        "                print('Epoch {:>3} Batch {:>4}/{} - Train Accuracy: {:>6.4f}, Validation Accuracy: {:>6.4f}, Loss: {:>6.4f}'\n",
        "                      .format(epoch_i, batch_i, len(source_int_text) // batch_size, train_acc, valid_acc, loss))\n",
        "\n",
        "    # Save Model\n",
        "    saver = tf.train.Saver()\n",
        "    saver.save(sess, save_path)\n",
        "    print('Model Trained and Saved')"
      ],
      "execution_count": null,
      "outputs": [
        {
          "output_type": "stream",
          "text": [
            "Epoch   0 Batch   50/269 - Train Accuracy: 0.4272, Validation Accuracy: 0.4736, Loss: 1.5344\n",
            "Epoch   0 Batch  100/269 - Train Accuracy: 0.4617, Validation Accuracy: 0.4575, Loss: 0.9760\n",
            "Epoch   0 Batch  150/269 - Train Accuracy: 0.4857, Validation Accuracy: 0.5033, Loss: 0.8069\n",
            "Epoch   0 Batch  200/269 - Train Accuracy: 0.5632, Validation Accuracy: 0.5741, Loss: 0.7126\n",
            "Epoch   0 Batch  250/269 - Train Accuracy: 0.5752, Validation Accuracy: 0.5957, Loss: 0.6288\n",
            "Epoch   1 Batch   50/269 - Train Accuracy: 0.6081, Validation Accuracy: 0.6191, Loss: 0.5574\n",
            "Epoch   1 Batch  100/269 - Train Accuracy: 0.6727, Validation Accuracy: 0.6578, Loss: 0.4798\n",
            "Epoch   1 Batch  150/269 - Train Accuracy: 0.6781, Validation Accuracy: 0.6670, Loss: 0.4549\n",
            "Epoch   1 Batch  200/269 - Train Accuracy: 0.6924, Validation Accuracy: 0.6911, Loss: 0.4195\n",
            "Epoch   1 Batch  250/269 - Train Accuracy: 0.7258, Validation Accuracy: 0.7047, Loss: 0.3553\n",
            "Epoch   2 Batch   50/269 - Train Accuracy: 0.7976, Validation Accuracy: 0.7966, Loss: 0.2849\n",
            "Epoch   2 Batch  100/269 - Train Accuracy: 0.8268, Validation Accuracy: 0.8099, Loss: 0.2196\n",
            "Epoch   2 Batch  150/269 - Train Accuracy: 0.8214, Validation Accuracy: 0.8336, Loss: 0.1914\n",
            "Epoch   2 Batch  200/269 - Train Accuracy: 0.8272, Validation Accuracy: 0.8320, Loss: 0.1710\n",
            "Epoch   2 Batch  250/269 - Train Accuracy: 0.8784, Validation Accuracy: 0.8755, Loss: 0.1492\n",
            "Epoch   3 Batch   50/269 - Train Accuracy: 0.8725, Validation Accuracy: 0.9006, Loss: 0.1337\n",
            "Epoch   3 Batch  100/269 - Train Accuracy: 0.9158, Validation Accuracy: 0.9078, Loss: 0.1057\n",
            "Epoch   3 Batch  150/269 - Train Accuracy: 0.9182, Validation Accuracy: 0.9151, Loss: 0.0953\n",
            "Epoch   3 Batch  200/269 - Train Accuracy: 0.9239, Validation Accuracy: 0.9278, Loss: 0.0848\n",
            "Epoch   3 Batch  250/269 - Train Accuracy: 0.9329, Validation Accuracy: 0.9213, Loss: 0.0703\n",
            "Epoch   4 Batch   50/269 - Train Accuracy: 0.9268, Validation Accuracy: 0.9294, Loss: 0.0641\n",
            "Epoch   4 Batch  100/269 - Train Accuracy: 0.9378, Validation Accuracy: 0.9349, Loss: 0.0523\n",
            "Epoch   4 Batch  150/269 - Train Accuracy: 0.9444, Validation Accuracy: 0.9412, Loss: 0.0509\n",
            "Epoch   4 Batch  200/269 - Train Accuracy: 0.9486, Validation Accuracy: 0.9456, Loss: 0.0432\n",
            "Epoch   4 Batch  250/269 - Train Accuracy: 0.9508, Validation Accuracy: 0.9462, Loss: 0.0444\n",
            "Epoch   5 Batch   50/269 - Train Accuracy: 0.9355, Validation Accuracy: 0.9470, Loss: 0.0472\n",
            "Epoch   5 Batch  100/269 - Train Accuracy: 0.9616, Validation Accuracy: 0.9529, Loss: 0.0385\n",
            "Epoch   5 Batch  150/269 - Train Accuracy: 0.9573, Validation Accuracy: 0.9472, Loss: 0.0365\n",
            "Epoch   5 Batch  200/269 - Train Accuracy: 0.9606, Validation Accuracy: 0.9627, Loss: 0.0311\n",
            "Epoch   5 Batch  250/269 - Train Accuracy: 0.9561, Validation Accuracy: 0.9534, Loss: 0.0344\n",
            "Epoch   6 Batch   50/269 - Train Accuracy: 0.9529, Validation Accuracy: 0.9584, Loss: 0.0369\n",
            "Epoch   6 Batch  100/269 - Train Accuracy: 0.9639, Validation Accuracy: 0.9589, Loss: 0.0298\n",
            "Epoch   6 Batch  150/269 - Train Accuracy: 0.9605, Validation Accuracy: 0.9565, Loss: 0.0301\n",
            "Epoch   6 Batch  200/269 - Train Accuracy: 0.9696, Validation Accuracy: 0.9629, Loss: 0.0229\n",
            "Epoch   6 Batch  250/269 - Train Accuracy: 0.9685, Validation Accuracy: 0.9658, Loss: 0.0262\n",
            "Epoch   7 Batch   50/269 - Train Accuracy: 0.9636, Validation Accuracy: 0.9703, Loss: 0.0308\n",
            "Epoch   7 Batch  100/269 - Train Accuracy: 0.9732, Validation Accuracy: 0.9630, Loss: 0.0219\n",
            "Epoch   7 Batch  150/269 - Train Accuracy: 0.9771, Validation Accuracy: 0.9608, Loss: 0.0213\n",
            "Epoch   7 Batch  200/269 - Train Accuracy: 0.9741, Validation Accuracy: 0.9654, Loss: 0.0186\n",
            "Epoch   7 Batch  250/269 - Train Accuracy: 0.9702, Validation Accuracy: 0.9718, Loss: 0.0229\n",
            "Epoch   8 Batch   50/269 - Train Accuracy: 0.9671, Validation Accuracy: 0.9726, Loss: 0.0229\n",
            "Epoch   8 Batch  100/269 - Train Accuracy: 0.9777, Validation Accuracy: 0.9745, Loss: 0.0186\n",
            "Epoch   8 Batch  150/269 - Train Accuracy: 0.9809, Validation Accuracy: 0.9708, Loss: 0.0200\n",
            "Epoch   8 Batch  200/269 - Train Accuracy: 0.9796, Validation Accuracy: 0.9760, Loss: 0.0162\n",
            "Epoch   8 Batch  250/269 - Train Accuracy: 0.9728, Validation Accuracy: 0.9790, Loss: 0.0191\n",
            "Epoch   9 Batch   50/269 - Train Accuracy: 0.9755, Validation Accuracy: 0.9743, Loss: 0.0200\n",
            "Epoch   9 Batch  100/269 - Train Accuracy: 0.9851, Validation Accuracy: 0.9746, Loss: 0.0147\n",
            "Epoch   9 Batch  150/269 - Train Accuracy: 0.9851, Validation Accuracy: 0.9750, Loss: 0.0160\n",
            "Epoch   9 Batch  200/269 - Train Accuracy: 0.9828, Validation Accuracy: 0.9706, Loss: 0.0138\n",
            "Epoch   9 Batch  250/269 - Train Accuracy: 0.9775, Validation Accuracy: 0.9737, Loss: 0.0167\n",
            "Model Trained and Saved\n"
          ],
          "name": "stdout"
        }
      ]
    },
    {
      "cell_type": "markdown",
      "metadata": {
        "id": "Z76qgYDlllp9",
        "colab_type": "text"
      },
      "source": [
        "### Save Parameters\n",
        "Save the `batch_size` and `save_path` parameters for inference."
      ]
    },
    {
      "cell_type": "code",
      "metadata": {
        "id": "RicB2KjDllp9",
        "colab_type": "code",
        "colab": {}
      },
      "source": [
        "\"\"\"\n",
        "DON'T MODIFY ANYTHING IN THIS CELL\n",
        "\"\"\"\n",
        "# Save parameters for checkpoint\n",
        "helper1.save_params(save_path)"
      ],
      "execution_count": null,
      "outputs": []
    },
    {
      "cell_type": "markdown",
      "metadata": {
        "id": "6cOLVh7fllqA",
        "colab_type": "text"
      },
      "source": [
        "# Checkpoint"
      ]
    },
    {
      "cell_type": "code",
      "metadata": {
        "id": "ZHiayTQdllqA",
        "colab_type": "code",
        "colab": {}
      },
      "source": [
        "\"\"\"\n",
        "DON'T MODIFY ANYTHING IN THIS CELL\n",
        "\"\"\"\n",
        "import tensorflow as tf\n",
        "import numpy as np\n",
        "import helper\n",
        "import problem_unittests as tests\n",
        "\n",
        "_, (source_vocab_to_int, target_vocab_to_int), (source_int_to_vocab, target_int_to_vocab) = helper1.load_preprocess()\n",
        "load_path = helper1.load_params()"
      ],
      "execution_count": null,
      "outputs": []
    },
    {
      "cell_type": "markdown",
      "metadata": {
        "id": "OfLaBFs_llqC",
        "colab_type": "text"
      },
      "source": [
        "## Sentence to Sequence\n",
        "To feed a sentence into the model for translation, you first need to preprocess it.  Implement the function `sentence_to_seq()` to preprocess new sentences.\n",
        "\n",
        "- Convert the sentence to lowercase\n",
        "- Convert words into ids using `vocab_to_int`\n",
        " - Convert words not in the vocabulary, to the `<UNK>` word id."
      ]
    },
    {
      "cell_type": "code",
      "metadata": {
        "id": "ZQyLUO6CllqC",
        "colab_type": "code",
        "colab": {
          "base_uri": "https://localhost:8080/",
          "height": 35
        },
        "outputId": "523cdf53-b4ba-463a-fdb1-1a77b3b2b197"
      },
      "source": [
        "def sentence_to_seq(sentence, vocab_to_int):\n",
        "    \"\"\"\n",
        "    Convert a sentence to a sequence of ids\n",
        "    :param sentence: String\n",
        "    :param vocab_to_int: Dictionary to go from the words to an id\n",
        "    :return: List of word ids\n",
        "    \"\"\"\n",
        "    # TODO: Implement Function\n",
        "    return [vocab_to_int.get(word, vocab_to_int['<UNK>']) for word in sentence.lower().split()]\n",
        "    \n",
        "\n",
        "\n",
        "\"\"\"\n",
        "DON'T MODIFY ANYTHING IN THIS CELL THAT IS BELOW THIS LINE\n",
        "\"\"\"\n",
        "tests.test_sentence_to_seq(sentence_to_seq)"
      ],
      "execution_count": null,
      "outputs": [
        {
          "output_type": "stream",
          "text": [
            "Tests Passed\n"
          ],
          "name": "stdout"
        }
      ]
    },
    {
      "cell_type": "markdown",
      "metadata": {
        "id": "MW77kh3-llqE",
        "colab_type": "text"
      },
      "source": [
        "## Translate\n",
        "This will translate `translate_sentence` from English to French."
      ]
    },
    {
      "cell_type": "code",
      "metadata": {
        "id": "CQwixYcYllqF",
        "colab_type": "code",
        "colab": {
          "base_uri": "https://localhost:8080/",
          "height": 156
        },
        "outputId": "a56ef766-7261-4f5e-d791-6056bcc1bf4f"
      },
      "source": [
        "translate_sentence = 'he saw a old yellow truck .'\n",
        "\n",
        "\n",
        "\"\"\"\n",
        "DON'T MODIFY ANYTHING IN THIS CELL\n",
        "\"\"\"\n",
        "translate_sentence = sentence_to_seq(translate_sentence, source_vocab_to_int)\n",
        "\n",
        "loaded_graph = tf.Graph()\n",
        "with tf.Session(graph=loaded_graph) as sess:\n",
        "    # Load saved model\n",
        "    loader = tf.train.import_meta_graph(load_path + '.meta')\n",
        "    loader.restore(sess, load_path)\n",
        "\n",
        "    input_data = loaded_graph.get_tensor_by_name('input:0')\n",
        "    logits = loaded_graph.get_tensor_by_name('predictions:0')\n",
        "    target_sequence_length = loaded_graph.get_tensor_by_name('target_sequence_length:0')\n",
        "    source_sequence_length = loaded_graph.get_tensor_by_name('source_sequence_length:0')\n",
        "    keep_prob = loaded_graph.get_tensor_by_name('keep_prob:0')\n",
        "\n",
        "    translate_logits = sess.run(logits, {input_data: [translate_sentence]*batch_size,\n",
        "                                         target_sequence_length: [len(translate_sentence)*2]*batch_size,\n",
        "                                         source_sequence_length: [len(translate_sentence)]*batch_size,\n",
        "                                         keep_prob: 1.0})[0]\n",
        "\n",
        "print('Input')\n",
        "print('  Word Ids:      {}'.format([i for i in translate_sentence]))\n",
        "print('  English Words: {}'.format([source_int_to_vocab[i] for i in translate_sentence]))\n",
        "\n",
        "print('\\nPrediction')\n",
        "print('  Word Ids:      {}'.format([i for i in translate_logits]))\n",
        "print('  French Words: {}'.format(\" \".join([target_int_to_vocab[i] for i in translate_logits])))\n"
      ],
      "execution_count": null,
      "outputs": [
        {
          "output_type": "stream",
          "text": [
            "INFO:tensorflow:Restoring parameters from checkpoints/dev\n",
            "Input\n",
            "  Word Ids:      [85, 56, 96, 28, 105, 157, 71]\n",
            "  English Words: ['he', 'saw', 'a', 'old', 'yellow', 'truck', '.']\n",
            "\n",
            "Prediction\n",
            "  Word Ids:      [191, 37, 115, 181, 215, 232, 158, 23, 1]\n",
            "  French Words: il a vu un vieux camion jaune . <EOS>\n"
          ],
          "name": "stdout"
        }
      ]
    },
    {
      "cell_type": "markdown",
      "metadata": {
        "id": "tbu6ei5YllqI",
        "colab_type": "text"
      },
      "source": [
        "## Imperfect Translation\n",
        "You might notice that some sentences translate better than others.  Since the dataset you're using only has a vocabulary of 227 English words of the thousands that you use, you're only going to see good results using these words.  For this project, you don't need a perfect translation. However, if you want to create a better translation model, you'll need better data.\n",
        "\n",
        "You can train on the [WMT10 French-English corpus](http://www.statmt.org/wmt10/training-giga-fren.tar).  This dataset has more vocabulary and richer in topics discussed.  However, this will take you days to train, so make sure you've a GPU and the neural network is performing well on dataset we provided.  Just make sure you play with the WMT10 corpus after you've submitted this project."
      ]
    }
  ]
}